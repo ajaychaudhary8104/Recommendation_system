import pandas as pd
import numpy as np
from sklearn.feature_extraction.text import TfidfVectorizer
from sklearn.metrics.pairwise import cosine_similarity
import matplotlib.pyplot as plt
import seaborn as sns


data = pd.read_csv('tcc_ceds_music.csv')  

data.head().T


data.shape


data.info()


data.isnull().sum()


plt.figure(figsize=(10, 6))
sns.countplot(x='genre', data=data, order=data['genre'].value_counts().index[:10])
plt.title('Top 10 Genres')
plt.ylabel('Count')
plt.xlabel('Genre')
plt.show()


top_artists = data.groupby('artist_name').size().sort_values(ascending=False).head(10)
top_artists


plt.figure(figsize=(10, 6))
sns.barplot(x=top_artists.values, y=top_artists.index, palette='viridis')
plt.title('Top 10 Artists by Number of Songs')
plt.xlabel('Number of Songs')
plt.ylabel('Artist Name')
plt.show()


data['combined_features'] = (
    data['genre'].fillna('') + ' ' +
    data['artist_name'].fillna('') + ' ' +
    data['track_name'].fillna('') + ' ' + data['topic'].fillna(''))


data['combined_features'][0]


tfidf = TfidfVectorizer(stop_words='english')
tfidf_matrix = tfidf.fit_transform(data['combined_features'])


tfidf_matrix.toarray()[0][0]


tfidf_matrix


cosine_sim = cosine_similarity(tfidf_matrix, tfidf_matrix)


len(cosine_sim)


cosine_sim[0]


song_title = 'cry'


idx = data[data['track_name'] == song_title].index
idx


idx = idx[0]
idx


sim_scores = list(enumerate(cosine_sim[idx]))
sim_scores


sim_scores = sorted(sim_scores, key=lambda x: x[1], reverse=True)
sim_scores


def get_recommendations(song_title, data, cosine_sim, top_n=10):
    # Get the index of the song that matches the title
    idx = data[data['track_name'] == song_title].index
    if len(idx) == 0:
        print("Song not found in the dataset.")
        return
    
    idx = idx[0]

    sim_scores = list(enumerate(cosine_sim[idx]))

    sim_scores = sorted(sim_scores, key=lambda x: x[1], reverse=True)

    sim_scores = sim_scores[1:top_n+1]  
    song_indices = [i[0] for i in sim_scores]

    recommendations = data.iloc[song_indices]
    return recommendations


data[data['track_name'] == 'cry']['topic']


recommended_songs = get_recommendations('cry', data, cosine_sim, top_n=10)
print(recommended_songs[['track_name', 'artist_name', 'genre', 'topic']])


plt.figure(figsize=(10, 6))
sns.barplot(y='track_name', x='artist_name', data=recommended_songs, palette='coolwarm')
plt.title('Recommended Songs Similar to "Cry"')
plt.xlabel('Artist Name')
plt.ylabel('Song Name')
plt.show()



