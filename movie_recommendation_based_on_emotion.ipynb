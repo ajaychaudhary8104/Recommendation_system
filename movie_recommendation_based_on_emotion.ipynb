{
  "nbformat": 4,
  "nbformat_minor": 0,
  "metadata": {
    "colab": {
      "provenance": []
    },
    "kernelspec": {
      "name": "python3",
      "display_name": "Python 3"
    },
    "language_info": {
      "name": "python"
    }
  },
  "cells": [
    {
      "cell_type": "code",
      "execution_count": 1,
      "metadata": {
        "colab": {
          "base_uri": "https://localhost:8080/"
        },
        "id": "Udi641WY3TcP",
        "outputId": "bb0021a8-c354-4199-f5a2-619c9dbd7d3a"
      },
      "outputs": [
        {
          "output_type": "stream",
          "name": "stdout",
          "text": [
            "Requirement already satisfied: beautifulsoup4 in /usr/local/lib/python3.11/dist-packages (4.13.4)\n",
            "Requirement already satisfied: soupsieve>1.2 in /usr/local/lib/python3.11/dist-packages (from beautifulsoup4) (2.7)\n",
            "Requirement already satisfied: typing-extensions>=4.0.0 in /usr/local/lib/python3.11/dist-packages (from beautifulsoup4) (4.13.2)\n",
            "Requirement already satisfied: lxml in /usr/local/lib/python3.11/dist-packages (5.4.0)\n"
          ]
        }
      ],
      "source": [
        "!pip install beautifulsoup4\n",
        "!pip install lxml"
      ]
    },
    {
      "cell_type": "code",
      "source": [
        "import requests\n",
        "from bs4 import BeautifulSoup\n",
        "import re"
      ],
      "metadata": {
        "id": "rz2_HjcP3aib"
      },
      "execution_count": 2,
      "outputs": []
    },
    {
      "cell_type": "code",
      "source": [
        "# Dictionary to map emotions to IMDb URLs\n",
        "URLS = {\n",
        "    \"Drama\": 'https://www.imdb.com/search/title/?title_type=feature&genres=drama',\n",
        "    \"Action\": 'https://www.imdb.com/search/title/?title_type=feature&genres=action',\n",
        "    \"Comedy\": 'https://www.imdb.com/search/title/?title_type=feature&genres=comedy',\n",
        "    \"Horror\": 'https://www.imdb.com/search/title/?title_type=feature&genres=horror',\n",
        "    \"Crime\": 'https://www.imdb.com/search/title/?title_type=feature&genres=crime',\n",
        "}"
      ],
      "metadata": {
        "id": "rzvIXnm53geG"
      },
      "execution_count": 3,
      "outputs": []
    },
    {
      "cell_type": "code",
      "source": [
        "def main(emotion):\n",
        "    url = URLS.get(emotion)\n",
        "    print(\"ok\", url)\n",
        "    if not url:\n",
        "        print(\"Invalid emotion.\")\n",
        "        return []\n",
        "\n",
        "    headers = {\n",
        "    'User-Agent':\n",
        "    'Mozilla/5.0 (Windows NT 10.0; Win64; x64) AppleWebKit/537.36 (KHTML, like Gecko) Chrome/91.0.4472.124 Safari/537.36',\n",
        "    'Accept-Language': 'en-US,en;q=0.9' # Add Accept-Language header to request English content\n",
        "    }\n",
        "\n",
        "    try:\n",
        "        response = requests.get(url, headers=headers)\n",
        "        response.raise_for_status()  # Check for HTTP errors\n",
        "    except requests.RequestException as e:\n",
        "        print(f\"Error fetching data: {e}\")\n",
        "        return []\n",
        "\n",
        "    soup = BeautifulSoup(response.text, \"lxml\")\n",
        "\n",
        "    # Extract movie titles\n",
        "    titles = [a.get_text() for a in soup.find_all('a', href=re.compile(r'/title/tt\\d+/'))]\n",
        "    return titles"
      ],
      "metadata": {
        "id": "gOjGV-zw3k25"
      },
      "execution_count": 4,
      "outputs": []
    },
    {
      "cell_type": "code",
      "source": [
        "# Driver Function\n",
        "if __name__ == '__main__':\n",
        "    emotion = input(\"Enter the emotion: \").strip()\n",
        "    movie_titles = main(emotion)\n",
        "\n",
        "    if not movie_titles:\n",
        "        print(\"No titles found.\")\n",
        "    else:\n",
        "        max_titles = 14 if emotion in [\"Drama\", \"Action\", \"Comedy\", \"Horror\", \"Crime\"] else 12\n",
        "        for title in movie_titles[:max_titles]:\n",
        "            print(title)"
      ],
      "metadata": {
        "colab": {
          "base_uri": "https://localhost:8080/"
        },
        "id": "ob2rx6fT3tEH",
        "outputId": "77447b84-e164-434c-cb46-cb18e8748934"
      },
      "execution_count": 5,
      "outputs": [
        {
          "output_type": "stream",
          "name": "stdout",
          "text": [
            "Enter the emotion: Comedy\n",
            "ok https://www.imdb.com/search/title/?title_type=feature&genres=comedy\n",
            "\n",
            "1. Lilo & Stitch\n",
            "\n",
            "2. Mickey 17\n",
            "\n",
            "3. The Phoenician Scheme\n",
            "\n",
            "4. Nonnas\n",
            "\n",
            "5. Lilo & Stitch\n",
            "\n",
            "6. A Minecraft Movie\n",
            "\n",
            "7. Friendship\n"
          ]
        }
      ]
    },
    {
      "cell_type": "code",
      "source": [],
      "metadata": {
        "id": "LG4Tz-iB566J"
      },
      "execution_count": null,
      "outputs": []
    }
  ]
}